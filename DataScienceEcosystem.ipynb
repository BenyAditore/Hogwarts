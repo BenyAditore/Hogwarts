{
 "cells": [
  {
   "cell_type": "markdown",
   "id": "41b5c038",
   "metadata": {},
   "source": [
    "# Data Science Tools and Ecosystem"
   ]
  },
  {
   "cell_type": "markdown",
   "id": "56c79037",
   "metadata": {},
   "source": [
    "In this notebook, Data Science and Ecosystem are summerized. "
   ]
  },
  {
   "cell_type": "markdown",
   "id": "1984cf61",
   "metadata": {},
   "source": [
    "**Objectives:**\n",
    "* Categories of Data Science Tools are Data Management, Data Integration and Transformation, Data Visualization, Model Builder, Model Deployment, Model Monitoring and Assessment\n",
    "* Categories supporte by Data Asset Management, Code Asset Management, Execution Enviorment and Developement Enviorment.\n",
    "* Every language has it own features and uses.\n",
    "* Machine Learning Models can devide into three basic types: Supervised learning, Unsupervised learning and Reinforcement learning."
   ]
  },
  {
   "cell_type": "markdown",
   "id": "58dfbf77",
   "metadata": {},
   "source": [
    "Some of the popular languages that Data Scientist use are:\n",
    "1. Python\n",
    "2. R\n",
    "3. SQL\n",
    "4. Java\n",
    "5. Scala"
   ]
  },
  {
   "cell_type": "markdown",
   "id": "71863230",
   "metadata": {},
   "source": [
    "Some of the commonly used libraries used by Data Scientist include:\n",
    "1. Pandas\n",
    "2. Numpy\n",
    "3. Seaborn\n",
    "4. Keras\n",
    "5. Matplotlib"
   ]
  },
  {
   "cell_type": "markdown",
   "id": "6245a4c1",
   "metadata": {},
   "source": [
    "|Data Science Tools|\n",
    "---------------------------\n",
    "|Jupyter|\n",
    "|R studio|\n",
    "|IBM Watson|"
   ]
  },
  {
   "cell_type": "markdown",
   "id": "5aedfe1a",
   "metadata": {},
   "source": [
    "### Below are a few examples of evaluating arithmetic expression in python."
   ]
  },
  {
   "cell_type": "code",
   "execution_count": 1,
   "id": "6ce7dba0",
   "metadata": {},
   "outputs": [
    {
     "data": {
      "text/plain": [
       "17"
      ]
     },
     "execution_count": 1,
     "metadata": {},
     "output_type": "execute_result"
    }
   ],
   "source": [
    "# This is a simple arithmetic expression to multiply then add integers.\n",
    "(3*4)+5"
   ]
  },
  {
   "cell_type": "code",
   "execution_count": 2,
   "id": "38bd5fa1",
   "metadata": {},
   "outputs": [
    {
     "data": {
      "text/plain": [
       "3.3333333333333335"
      ]
     },
     "execution_count": 2,
     "metadata": {},
     "output_type": "execute_result"
    }
   ],
   "source": [
    "# This will convert 200 minutes to hours by diving by 60.\n",
    "200/60"
   ]
  },
  {
   "cell_type": "markdown",
   "id": "ecbd85bd",
   "metadata": {},
   "source": [
    "## Autor\n",
    "Behnam Qaffarpasand"
   ]
  }
 ],
 "metadata": {
  "kernelspec": {
   "display_name": "Python 3 (ipykernel)",
   "language": "python",
   "name": "python3"
  },
  "language_info": {
   "codemirror_mode": {
    "name": "ipython",
    "version": 3
   },
   "file_extension": ".py",
   "mimetype": "text/x-python",
   "name": "python",
   "nbconvert_exporter": "python",
   "pygments_lexer": "ipython3",
   "version": "3.11.3"
  }
 },
 "nbformat": 4,
 "nbformat_minor": 5
}
